{
 "cells": [
  {
   "cell_type": "code",
   "execution_count": null,
   "id": "92cd50ff-471e-4649-8941-0b166ce792f2",
   "metadata": {
    "tags": []
   },
   "outputs": [],
   "source": [
    "pip install pdf2image\n",
    "pip install wand\n",
    "brew reinstall imagemagick"
   ]
  },
  {
   "cell_type": "code",
   "execution_count": null,
   "id": "d2a25f87-c254-4977-be98-e4fcf6ccc998",
   "metadata": {
    "tags": []
   },
   "outputs": [],
   "source": []
  },
  {
   "cell_type": "code",
   "execution_count": null,
   "id": "5d389eb8-a059-4c74-bee5-99ef3a027d2b",
   "metadata": {
    "tags": []
   },
   "outputs": [],
   "source": []
  },
  {
   "cell_type": "code",
   "execution_count": null,
   "id": "8912e626-2063-4ce2-8d71-20e8340ac8fd",
   "metadata": {
    "tags": []
   },
   "outputs": [],
   "source": [
    "from wand.image import Image\n",
    "import os\n",
    "\n",
    "def pdf_to_png_wand(pdf_path, output_folder, resolution=600):\n",
    "    \"\"\"\n",
    "    Converts a PDF to high-resolution PNG images using ImageMagick (Wand).\n",
    "\n",
    "    :param pdf_path: Path to the input PDF file.\n",
    "    :param output_folder: Directory to save the output PNG files.\n",
    "    :param resolution: DPI for high-quality output (default is 600).\n",
    "    \"\"\"\n",
    "    if not os.path.exists(output_folder):\n",
    "        os.makedirs(output_folder)\n",
    "\n",
    "    with Image(filename=pdf_path, resolution=resolution) as img:\n",
    "        img.compression = \"zip\"  # PNG compression (lossless)\n",
    "        img.type = \"grayscale\"  # Convert to 8-bit grayscale to reduce size\n",
    "        \n",
    "        for i, page in enumerate(img.sequence):\n",
    "            with Image(page) as single_page:\n",
    "                single_page.format = \"png\"\n",
    "                output_file = os.path.join(output_folder, f\"page_{i+1}.png\")\n",
    "                single_page.save(filename=output_file)\n",
    "                print(f\"Saved: {output_file}\")\n",
    "\n",
    "# Example usage\n",
    "pdf_to_png_wand(\"input_pdf_file.pdf\", \"output_images\", resolution=200)\n"
   ]
  },
  {
   "cell_type": "code",
   "execution_count": null,
   "id": "68de6a46-e480-469d-8602-f819324a4d6b",
   "metadata": {},
   "outputs": [],
   "source": []
  }
 ],
 "metadata": {
  "kernelspec": {
   "display_name": "Python 3 (ipykernel)",
   "language": "python",
   "name": "python3"
  },
  "language_info": {
   "codemirror_mode": {
    "name": "ipython",
    "version": 3
   },
   "file_extension": ".py",
   "mimetype": "text/x-python",
   "name": "python",
   "nbconvert_exporter": "python",
   "pygments_lexer": "ipython3",
   "version": "3.9.18"
  }
 },
 "nbformat": 4,
 "nbformat_minor": 5
}
